{
  "nbformat": 4,
  "nbformat_minor": 0,
  "metadata": {
    "colab": {
      "name": "dsc.ipynb",
      "provenance": [],
      "authorship_tag": "ABX9TyNsEyv4DrBYRTMKnx8RFe3j"
    },
    "kernelspec": {
      "name": "python3",
      "display_name": "Python 3"
    },
    "language_info": {
      "name": "python"
    }
  },
  "cells": [
    {
      "cell_type": "code",
      "execution_count": 1,
      "metadata": {
        "colab": {
          "base_uri": "https://localhost:8080/"
        },
        "id": "-eIsoW-zQO4I",
        "outputId": "f705d074-cbd0-459c-b012-cb17e838022f"
      },
      "outputs": [
        {
          "output_type": "stream",
          "name": "stdout",
          "text": [
            "Collecting pycoingecko\n",
            "  Downloading pycoingecko-2.2.0-py3-none-any.whl (8.3 kB)\n",
            "Requirement already satisfied: requests in /usr/local/lib/python3.7/dist-packages (from pycoingecko) (2.23.0)\n",
            "Requirement already satisfied: urllib3!=1.25.0,!=1.25.1,<1.26,>=1.21.1 in /usr/local/lib/python3.7/dist-packages (from requests->pycoingecko) (1.24.3)\n",
            "Requirement already satisfied: certifi>=2017.4.17 in /usr/local/lib/python3.7/dist-packages (from requests->pycoingecko) (2021.10.8)\n",
            "Requirement already satisfied: idna<3,>=2.5 in /usr/local/lib/python3.7/dist-packages (from requests->pycoingecko) (2.10)\n",
            "Requirement already satisfied: chardet<4,>=3.0.2 in /usr/local/lib/python3.7/dist-packages (from requests->pycoingecko) (3.0.4)\n",
            "Installing collected packages: pycoingecko\n",
            "Successfully installed pycoingecko-2.2.0\n"
          ]
        }
      ],
      "source": [
        "!pip install pycoingecko\n",
        "from pycoingecko import CoinGeckoAPI"
      ]
    },
    {
      "cell_type": "code",
      "source": [
        "from pycoingecko import CoinGeckoAPI\n",
        "from datetime import timezone\n",
        "from datetime import datetime\n",
        "import numpy as np\n",
        "import altair as alt\n",
        "import pandas as pd"
      ],
      "metadata": {
        "id": "FCuIv7VjQaD2"
      },
      "execution_count": 11,
      "outputs": []
    },
    {
      "cell_type": "code",
      "source": [
        "def datetime_to_unix(year, month, day):\n",
        "    '''datetime_to_unix(2021, 6, 1) => 1622505600.0'''\n",
        "    dt = datetime(year, month, day)\n",
        "    timestamp = (dt - datetime(1970, 1, 1)).total_seconds()\n",
        "    return timestamp\n",
        "def unix_to_datetime(unix_time):\n",
        "    '''unix_to_datetime(1622505700)=> ''2021-06-01 12:01am'''\n",
        "    ts = int(unix_time/1000 if len(str(unix_time)) > 10 else unix_time) # /1000 handles milliseconds\n",
        "    return datetime.utcfromtimestamp(ts).strftime('%Y-%m-%d %l:%M%p').lower()"
      ],
      "metadata": {
        "id": "BWd4ZxjLQpbT"
      },
      "execution_count": 4,
      "outputs": []
    },
    {
      "cell_type": "code",
      "source": [
        "# Initialize the client\n",
        "cg = CoinGeckoAPI()\n",
        "# Retrieve Bitcoin data in USD\n",
        "result = cg.get_coin_market_chart_range_by_id(\n",
        "    id='bitcoin',\n",
        "    vs_currency='usd',\n",
        "    from_timestamp=datetime_to_unix(2022, 3, 1),\n",
        "    to_timestamp=datetime_to_unix(2022, 3, 28)\n",
        ")"
      ],
      "metadata": {
        "id": "Y93eyDioQ2zH"
      },
      "execution_count": 43,
      "outputs": []
    },
    {
      "cell_type": "code",
      "source": [
        "result.keys()"
      ],
      "metadata": {
        "colab": {
          "base_uri": "https://localhost:8080/"
        },
        "id": "M-SoMeIERBaV",
        "outputId": "d5efa699-82d4-4f31-8d9f-53c96a64ce35"
      },
      "execution_count": 20,
      "outputs": [
        {
          "output_type": "execute_result",
          "data": {
            "text/plain": [
              "dict_keys(['prices', 'market_caps', 'total_volumes'])"
            ]
          },
          "metadata": {},
          "execution_count": 20
        }
      ]
    },
    {
      "cell_type": "code",
      "source": [
        "time = [ unix_to_datetime(i[0]) for i in result['prices'] ]"
      ],
      "metadata": {
        "id": "oJOC6QVRRGEb"
      },
      "execution_count": 40,
      "outputs": []
    },
    {
      "cell_type": "code",
      "source": [
        "p_array = np.array(result['prices'])\n",
        "price = p_array[:,1]"
      ],
      "metadata": {
        "id": "lSt56Jj8RJ73"
      },
      "execution_count": 41,
      "outputs": []
    },
    {
      "cell_type": "code",
      "source": [
        "v_array = np.array(result['total_volumes'])\n",
        "volume = v_array[:,1]"
      ],
      "metadata": {
        "id": "9e0tzYr9ROd_"
      },
      "execution_count": 23,
      "outputs": []
    },
    {
      "cell_type": "code",
      "source": [
        "df = pd.DataFrame({'time':time, 'price':price, 'volume':volume})\n",
        "df.head()"
      ],
      "metadata": {
        "colab": {
          "base_uri": "https://localhost:8080/",
          "height": 329
        },
        "id": "0LUK6l7pRRQz",
        "outputId": "de304a29-225c-4bb3-b3dc-ef95344f2190"
      },
      "execution_count": 42,
      "outputs": [
        {
          "output_type": "error",
          "ename": "ValueError",
          "evalue": "ignored",
          "traceback": [
            "\u001b[0;31m---------------------------------------------------------------------------\u001b[0m",
            "\u001b[0;31mValueError\u001b[0m                                Traceback (most recent call last)",
            "\u001b[0;32m<ipython-input-42-9a08fa2503c6>\u001b[0m in \u001b[0;36m<module>\u001b[0;34m()\u001b[0m\n\u001b[0;32m----> 1\u001b[0;31m \u001b[0mdf\u001b[0m \u001b[0;34m=\u001b[0m \u001b[0mpd\u001b[0m\u001b[0;34m.\u001b[0m\u001b[0mDataFrame\u001b[0m\u001b[0;34m(\u001b[0m\u001b[0;34m{\u001b[0m\u001b[0;34m'time'\u001b[0m\u001b[0;34m:\u001b[0m\u001b[0mtime\u001b[0m\u001b[0;34m,\u001b[0m \u001b[0;34m'price'\u001b[0m\u001b[0;34m:\u001b[0m\u001b[0mprice\u001b[0m\u001b[0;34m,\u001b[0m \u001b[0;34m'volume'\u001b[0m\u001b[0;34m:\u001b[0m\u001b[0mvolume\u001b[0m\u001b[0;34m}\u001b[0m\u001b[0;34m)\u001b[0m\u001b[0;34m\u001b[0m\u001b[0;34m\u001b[0m\u001b[0m\n\u001b[0m\u001b[1;32m      2\u001b[0m \u001b[0mdf\u001b[0m\u001b[0;34m.\u001b[0m\u001b[0mhead\u001b[0m\u001b[0;34m(\u001b[0m\u001b[0;34m)\u001b[0m\u001b[0;34m\u001b[0m\u001b[0;34m\u001b[0m\u001b[0m\n",
            "\u001b[0;32m/usr/local/lib/python3.7/dist-packages/pandas/core/frame.py\u001b[0m in \u001b[0;36m__init__\u001b[0;34m(self, data, index, columns, dtype, copy)\u001b[0m\n\u001b[1;32m    612\u001b[0m         \u001b[0;32melif\u001b[0m \u001b[0misinstance\u001b[0m\u001b[0;34m(\u001b[0m\u001b[0mdata\u001b[0m\u001b[0;34m,\u001b[0m \u001b[0mdict\u001b[0m\u001b[0;34m)\u001b[0m\u001b[0;34m:\u001b[0m\u001b[0;34m\u001b[0m\u001b[0;34m\u001b[0m\u001b[0m\n\u001b[1;32m    613\u001b[0m             \u001b[0;31m# GH#38939 de facto copy defaults to False only in non-dict cases\u001b[0m\u001b[0;34m\u001b[0m\u001b[0;34m\u001b[0m\u001b[0;34m\u001b[0m\u001b[0m\n\u001b[0;32m--> 614\u001b[0;31m             \u001b[0mmgr\u001b[0m \u001b[0;34m=\u001b[0m \u001b[0mdict_to_mgr\u001b[0m\u001b[0;34m(\u001b[0m\u001b[0mdata\u001b[0m\u001b[0;34m,\u001b[0m \u001b[0mindex\u001b[0m\u001b[0;34m,\u001b[0m \u001b[0mcolumns\u001b[0m\u001b[0;34m,\u001b[0m \u001b[0mdtype\u001b[0m\u001b[0;34m=\u001b[0m\u001b[0mdtype\u001b[0m\u001b[0;34m,\u001b[0m \u001b[0mcopy\u001b[0m\u001b[0;34m=\u001b[0m\u001b[0mcopy\u001b[0m\u001b[0;34m,\u001b[0m \u001b[0mtyp\u001b[0m\u001b[0;34m=\u001b[0m\u001b[0mmanager\u001b[0m\u001b[0;34m)\u001b[0m\u001b[0;34m\u001b[0m\u001b[0;34m\u001b[0m\u001b[0m\n\u001b[0m\u001b[1;32m    615\u001b[0m         \u001b[0;32melif\u001b[0m \u001b[0misinstance\u001b[0m\u001b[0;34m(\u001b[0m\u001b[0mdata\u001b[0m\u001b[0;34m,\u001b[0m \u001b[0mma\u001b[0m\u001b[0;34m.\u001b[0m\u001b[0mMaskedArray\u001b[0m\u001b[0;34m)\u001b[0m\u001b[0;34m:\u001b[0m\u001b[0;34m\u001b[0m\u001b[0;34m\u001b[0m\u001b[0m\n\u001b[1;32m    616\u001b[0m             \u001b[0;32mimport\u001b[0m \u001b[0mnumpy\u001b[0m\u001b[0;34m.\u001b[0m\u001b[0mma\u001b[0m\u001b[0;34m.\u001b[0m\u001b[0mmrecords\u001b[0m \u001b[0;32mas\u001b[0m \u001b[0mmrecords\u001b[0m\u001b[0;34m\u001b[0m\u001b[0;34m\u001b[0m\u001b[0m\n",
            "\u001b[0;32m/usr/local/lib/python3.7/dist-packages/pandas/core/internals/construction.py\u001b[0m in \u001b[0;36mdict_to_mgr\u001b[0;34m(data, index, columns, dtype, typ, copy)\u001b[0m\n\u001b[1;32m    463\u001b[0m \u001b[0;34m\u001b[0m\u001b[0m\n\u001b[1;32m    464\u001b[0m     return arrays_to_mgr(\n\u001b[0;32m--> 465\u001b[0;31m         \u001b[0marrays\u001b[0m\u001b[0;34m,\u001b[0m \u001b[0mdata_names\u001b[0m\u001b[0;34m,\u001b[0m \u001b[0mindex\u001b[0m\u001b[0;34m,\u001b[0m \u001b[0mcolumns\u001b[0m\u001b[0;34m,\u001b[0m \u001b[0mdtype\u001b[0m\u001b[0;34m=\u001b[0m\u001b[0mdtype\u001b[0m\u001b[0;34m,\u001b[0m \u001b[0mtyp\u001b[0m\u001b[0;34m=\u001b[0m\u001b[0mtyp\u001b[0m\u001b[0;34m,\u001b[0m \u001b[0mconsolidate\u001b[0m\u001b[0;34m=\u001b[0m\u001b[0mcopy\u001b[0m\u001b[0;34m\u001b[0m\u001b[0;34m\u001b[0m\u001b[0m\n\u001b[0m\u001b[1;32m    466\u001b[0m     )\n\u001b[1;32m    467\u001b[0m \u001b[0;34m\u001b[0m\u001b[0m\n",
            "\u001b[0;32m/usr/local/lib/python3.7/dist-packages/pandas/core/internals/construction.py\u001b[0m in \u001b[0;36marrays_to_mgr\u001b[0;34m(arrays, arr_names, index, columns, dtype, verify_integrity, typ, consolidate)\u001b[0m\n\u001b[1;32m    117\u001b[0m         \u001b[0;31m# figure out the index, if necessary\u001b[0m\u001b[0;34m\u001b[0m\u001b[0;34m\u001b[0m\u001b[0;34m\u001b[0m\u001b[0m\n\u001b[1;32m    118\u001b[0m         \u001b[0;32mif\u001b[0m \u001b[0mindex\u001b[0m \u001b[0;32mis\u001b[0m \u001b[0;32mNone\u001b[0m\u001b[0;34m:\u001b[0m\u001b[0;34m\u001b[0m\u001b[0;34m\u001b[0m\u001b[0m\n\u001b[0;32m--> 119\u001b[0;31m             \u001b[0mindex\u001b[0m \u001b[0;34m=\u001b[0m \u001b[0m_extract_index\u001b[0m\u001b[0;34m(\u001b[0m\u001b[0marrays\u001b[0m\u001b[0;34m)\u001b[0m\u001b[0;34m\u001b[0m\u001b[0;34m\u001b[0m\u001b[0m\n\u001b[0m\u001b[1;32m    120\u001b[0m         \u001b[0;32melse\u001b[0m\u001b[0;34m:\u001b[0m\u001b[0;34m\u001b[0m\u001b[0;34m\u001b[0m\u001b[0m\n\u001b[1;32m    121\u001b[0m             \u001b[0mindex\u001b[0m \u001b[0;34m=\u001b[0m \u001b[0mensure_index\u001b[0m\u001b[0;34m(\u001b[0m\u001b[0mindex\u001b[0m\u001b[0;34m)\u001b[0m\u001b[0;34m\u001b[0m\u001b[0;34m\u001b[0m\u001b[0m\n",
            "\u001b[0;32m/usr/local/lib/python3.7/dist-packages/pandas/core/internals/construction.py\u001b[0m in \u001b[0;36m_extract_index\u001b[0;34m(data)\u001b[0m\n\u001b[1;32m    633\u001b[0m             \u001b[0mlengths\u001b[0m \u001b[0;34m=\u001b[0m \u001b[0mlist\u001b[0m\u001b[0;34m(\u001b[0m\u001b[0mset\u001b[0m\u001b[0;34m(\u001b[0m\u001b[0mraw_lengths\u001b[0m\u001b[0;34m)\u001b[0m\u001b[0;34m)\u001b[0m\u001b[0;34m\u001b[0m\u001b[0;34m\u001b[0m\u001b[0m\n\u001b[1;32m    634\u001b[0m             \u001b[0;32mif\u001b[0m \u001b[0mlen\u001b[0m\u001b[0;34m(\u001b[0m\u001b[0mlengths\u001b[0m\u001b[0;34m)\u001b[0m \u001b[0;34m>\u001b[0m \u001b[0;36m1\u001b[0m\u001b[0;34m:\u001b[0m\u001b[0;34m\u001b[0m\u001b[0;34m\u001b[0m\u001b[0m\n\u001b[0;32m--> 635\u001b[0;31m                 \u001b[0;32mraise\u001b[0m \u001b[0mValueError\u001b[0m\u001b[0;34m(\u001b[0m\u001b[0;34m\"All arrays must be of the same length\"\u001b[0m\u001b[0;34m)\u001b[0m\u001b[0;34m\u001b[0m\u001b[0;34m\u001b[0m\u001b[0m\n\u001b[0m\u001b[1;32m    636\u001b[0m \u001b[0;34m\u001b[0m\u001b[0m\n\u001b[1;32m    637\u001b[0m             \u001b[0;32mif\u001b[0m \u001b[0mhave_dicts\u001b[0m\u001b[0;34m:\u001b[0m\u001b[0;34m\u001b[0m\u001b[0;34m\u001b[0m\u001b[0m\n",
            "\u001b[0;31mValueError\u001b[0m: All arrays must be of the same length"
          ]
        }
      ]
    },
    {
      "cell_type": "code",
      "source": [
        "# Create y-axis\n",
        "base = alt.Chart(df).encode(x='time:O')\n",
        "# Create bars \n",
        "bar = base.mark_bar().encode(\n",
        "    alt.Y(\n",
        "        'volume:Q',\n",
        "        scale=alt.Scale(domain=(20000000000, 70000000000)),\n",
        "    )\n",
        ")\n",
        "# Create line\n",
        "line =  base.mark_line(color='orange').encode(\n",
        "    alt.Y(\n",
        "        'price:Q', \n",
        "        axis=alt.Axis(titleColor='#5276A7'),\n",
        "        scale=alt.Scale(domain=(30000, 70000))\n",
        "    )\n",
        ")\n",
        "# Build the chart\n",
        "chart = alt.layer(bar, line).resolve_scale(y='independent').properties(width=600, title='Bitcoin Price & Volume')\n",
        "# Configure title\n",
        "chart.configure_title(\n",
        "    fontSize=20,\n",
        "    font='Helvetica',\n",
        "    color='black',\n",
        "    offset=10\n",
        ")"
      ],
      "metadata": {
        "colab": {
          "base_uri": "https://localhost:8080/",
          "height": 481
        },
        "id": "3-vM3M8VRcC1",
        "outputId": "e1023c61-4a0b-4f40-802c-3bde9210bf9f"
      },
      "execution_count": 44,
      "outputs": [
        {
          "output_type": "execute_result",
          "data": {
            "text/html": [
              "\n",
              "<div id=\"altair-viz-13220ae6477d4f6cbe0546407d2afc48\"></div>\n",
              "<script type=\"text/javascript\">\n",
              "  var VEGA_DEBUG = (typeof VEGA_DEBUG == \"undefined\") ? {} : VEGA_DEBUG;\n",
              "  (function(spec, embedOpt){\n",
              "    let outputDiv = document.currentScript.previousElementSibling;\n",
              "    if (outputDiv.id !== \"altair-viz-13220ae6477d4f6cbe0546407d2afc48\") {\n",
              "      outputDiv = document.getElementById(\"altair-viz-13220ae6477d4f6cbe0546407d2afc48\");\n",
              "    }\n",
              "    const paths = {\n",
              "      \"vega\": \"https://cdn.jsdelivr.net/npm//vega@5?noext\",\n",
              "      \"vega-lib\": \"https://cdn.jsdelivr.net/npm//vega-lib?noext\",\n",
              "      \"vega-lite\": \"https://cdn.jsdelivr.net/npm//vega-lite@4.17.0?noext\",\n",
              "      \"vega-embed\": \"https://cdn.jsdelivr.net/npm//vega-embed@6?noext\",\n",
              "    };\n",
              "\n",
              "    function maybeLoadScript(lib, version) {\n",
              "      var key = `${lib.replace(\"-\", \"\")}_version`;\n",
              "      return (VEGA_DEBUG[key] == version) ?\n",
              "        Promise.resolve(paths[lib]) :\n",
              "        new Promise(function(resolve, reject) {\n",
              "          var s = document.createElement('script');\n",
              "          document.getElementsByTagName(\"head\")[0].appendChild(s);\n",
              "          s.async = true;\n",
              "          s.onload = () => {\n",
              "            VEGA_DEBUG[key] = version;\n",
              "            return resolve(paths[lib]);\n",
              "          };\n",
              "          s.onerror = () => reject(`Error loading script: ${paths[lib]}`);\n",
              "          s.src = paths[lib];\n",
              "        });\n",
              "    }\n",
              "\n",
              "    function showError(err) {\n",
              "      outputDiv.innerHTML = `<div class=\"error\" style=\"color:red;\">${err}</div>`;\n",
              "      throw err;\n",
              "    }\n",
              "\n",
              "    function displayChart(vegaEmbed) {\n",
              "      vegaEmbed(outputDiv, spec, embedOpt)\n",
              "        .catch(err => showError(`Javascript Error: ${err.message}<br>This usually means there's a typo in your chart specification. See the javascript console for the full traceback.`));\n",
              "    }\n",
              "\n",
              "    if(typeof define === \"function\" && define.amd) {\n",
              "      requirejs.config({paths});\n",
              "      require([\"vega-embed\"], displayChart, err => showError(`Error loading script: ${err.message}`));\n",
              "    } else {\n",
              "      maybeLoadScript(\"vega\", \"5\")\n",
              "        .then(() => maybeLoadScript(\"vega-lite\", \"4.17.0\"))\n",
              "        .then(() => maybeLoadScript(\"vega-embed\", \"6\"))\n",
              "        .catch(showError)\n",
              "        .then(() => displayChart(vegaEmbed));\n",
              "    }\n",
              "  })({\"config\": {\"view\": {\"continuousWidth\": 400, \"continuousHeight\": 300}, \"title\": {\"color\": \"black\", \"font\": \"Helvetica\", \"fontSize\": 20, \"offset\": 10}}, \"layer\": [{\"mark\": \"bar\", \"encoding\": {\"x\": {\"field\": \"time\", \"type\": \"ordinal\"}, \"y\": {\"field\": \"volume\", \"scale\": {\"domain\": [20000000000, 70000000000]}, \"type\": \"quantitative\"}}}, {\"mark\": {\"type\": \"line\", \"color\": \"orange\"}, \"encoding\": {\"x\": {\"field\": \"time\", \"type\": \"ordinal\"}, \"y\": {\"axis\": {\"titleColor\": \"#5276A7\"}, \"field\": \"price\", \"scale\": {\"domain\": [30000, 70000]}, \"type\": \"quantitative\"}}}], \"data\": {\"name\": \"data-8bc6786014edf106a74e05293914aabc\"}, \"resolve\": {\"scale\": {\"y\": \"independent\"}}, \"title\": \"Bitcoin Price & Volume\", \"width\": 600, \"$schema\": \"https://vega.github.io/schema/vega-lite/v4.17.0.json\", \"datasets\": {\"data-8bc6786014edf106a74e05293914aabc\": [{\"time\": \"2022-03-01 12:02am\", \"price\": 43225.404677435734, \"volume\": 30634280854.538326}, {\"time\": \"2022-03-01  1:00am\", \"price\": 43478.77047822474, \"volume\": 30448887697.418266}, {\"time\": \"2022-03-01  2:00am\", \"price\": 43390.84327997846, \"volume\": 30639648716.05365}, {\"time\": \"2022-03-01  3:00am\", \"price\": 43142.69094255122, \"volume\": 30717326742.37404}, {\"time\": \"2022-03-01  4:01am\", \"price\": 43163.67532265797, \"volume\": 30973973552.03533}, {\"time\": \"2022-03-01  5:01am\", \"price\": 43414.51886010292, \"volume\": 31369899535.679222}, {\"time\": \"2022-03-01  6:01am\", \"price\": 43261.725577815756, \"volume\": 31118183897.520523}, {\"time\": \"2022-03-01  7:02am\", \"price\": 43510.203435906995, \"volume\": 31379726165.75946}, {\"time\": \"2022-03-01  8:01am\", \"price\": 43497.902762698555, \"volume\": 31119796535.609413}, {\"time\": \"2022-03-01  9:00am\", \"price\": 43521.93569654191, \"volume\": 31208541072.76124}, {\"time\": \"2022-03-01 10:00am\", \"price\": 43292.86473143017, \"volume\": 31281588701.831455}, {\"time\": \"2022-03-01 11:02am\", \"price\": 43492.94450524047, \"volume\": 31964838233.352768}, {\"time\": \"2022-03-01 12:00pm\", \"price\": 43569.95374021016, \"volume\": 32656124005.171467}, {\"time\": \"2022-03-01  1:03pm\", \"price\": 44643.14858568129, \"volume\": 34519116123.521706}, {\"time\": \"2022-03-01  2:00pm\", \"price\": 44694.17037709992, \"volume\": 35853183270.774666}, {\"time\": \"2022-03-01  3:02pm\", \"price\": 43973.34259117951, \"volume\": 35188654791.09401}, {\"time\": \"2022-03-01  4:02pm\", \"price\": 43677.60564679342, \"volume\": 33384408825.132217}, {\"time\": \"2022-03-01  5:01pm\", \"price\": 43393.352219069006, \"volume\": 32164422979.282463}, {\"time\": \"2022-03-01  6:02pm\", \"price\": 43630.211098805645, \"volume\": 32035902159.765682}, {\"time\": \"2022-03-01  7:01pm\", \"price\": 43849.43110901284, \"volume\": 31749688117.489487}, {\"time\": \"2022-03-01  8:01pm\", \"price\": 43762.52116438938, \"volume\": 31476708526.578506}, {\"time\": \"2022-03-01  9:00pm\", \"price\": 44075.80407315673, \"volume\": 30997956218.367653}, {\"time\": \"2022-03-01 10:01pm\", \"price\": 43868.3119585545, \"volume\": 30982013576.78749}, {\"time\": \"2022-03-01 11:01pm\", \"price\": 44215.92876753278, \"volume\": 28797971242.843727}, {\"time\": \"2022-03-02 12:01am\", \"price\": 44459.59162774341, \"volume\": 27880763034.093914}, {\"time\": \"2022-03-02  1:01am\", \"price\": 44204.669171661764, \"volume\": 27307162559.36968}, {\"time\": \"2022-03-02  2:02am\", \"price\": 44017.58480971982, \"volume\": 27248002332.067127}, {\"time\": \"2022-03-02  3:02am\", \"price\": 44173.45087599771, \"volume\": 26708273610.899616}, {\"time\": \"2022-03-02  4:04am\", \"price\": 44360.9317929588, \"volume\": 27029666304.354126}, {\"time\": \"2022-03-02  5:00am\", \"price\": 44357.34747197552, \"volume\": 27459588541.886185}, {\"time\": \"2022-03-02  6:01am\", \"price\": 44296.00419562195, \"volume\": 27339397306.432957}, {\"time\": \"2022-03-02  7:01am\", \"price\": 44000.93165453618, \"volume\": 27124178211.813328}, {\"time\": \"2022-03-02  8:00am\", \"price\": 43909.350125292774, \"volume\": 27184583946.41866}, {\"time\": \"2022-03-02  9:13am\", \"price\": 43851.8686761545, \"volume\": 27290944079.89128}, {\"time\": \"2022-03-02 10:00am\", \"price\": 43990.849174226045, \"volume\": 27232549894.12025}, {\"time\": \"2022-03-02 11:00am\", \"price\": 44157.49436394262, \"volume\": 27077844978.360867}, {\"time\": \"2022-03-02 12:02pm\", \"price\": 44156.9203119406, \"volume\": 26748789587.274887}, {\"time\": \"2022-03-02 12:05pm\", \"price\": 44171.541670602564, \"volume\": 26602320520.695545}, {\"time\": \"2022-03-02  1:01pm\", \"price\": 44072.15477582534, \"volume\": 25355521240.058212}, {\"time\": \"2022-03-02  2:02pm\", \"price\": 43515.996050621354, \"volume\": 24499400118.815445}, {\"time\": \"2022-03-02  3:00pm\", \"price\": 44790.13511032929, \"volume\": 24762519756.891506}, {\"time\": \"2022-03-02  4:01pm\", \"price\": 44198.88726255846, \"volume\": 26796714504.863853}, {\"time\": \"2022-03-02  5:02pm\", \"price\": 44311.5706216529, \"volume\": 26993591806.329277}, {\"time\": \"2022-03-02  6:00pm\", \"price\": 43868.75756160633, \"volume\": 25640600573.624252}, {\"time\": \"2022-03-02  7:01pm\", \"price\": 43669.7575077975, \"volume\": 25767287386.581085}, {\"time\": \"2022-03-02  8:01pm\", \"price\": 43783.01259430837, \"volume\": 25804207242.026375}, {\"time\": \"2022-03-02  9:01pm\", \"price\": 43854.75931852174, \"volume\": 26048346875.197365}, {\"time\": \"2022-03-02 10:00pm\", \"price\": 43934.052069955105, \"volume\": 25773657178.598072}, {\"time\": \"2022-03-02 11:02pm\", \"price\": 44151.615433052815, \"volume\": 25789235786.288357}, {\"time\": \"2022-03-03 12:02am\", \"price\": 43980.707382090906, \"volume\": 25615956856.40275}, {\"time\": \"2022-03-03  1:00am\", \"price\": 44023.893996570034, \"volume\": 24512443790.78584}, {\"time\": \"2022-03-03  2:00am\", \"price\": 43849.759016053635, \"volume\": 24193252488.928444}, {\"time\": \"2022-03-03  3:02am\", \"price\": 43861.93974160859, \"volume\": 24074460868.757862}, {\"time\": \"2022-03-03  4:00am\", \"price\": 43497.560395451634, \"volume\": 24035014471.120907}, {\"time\": \"2022-03-03  5:02am\", \"price\": 43401.80831431181, \"volume\": 23036398065.94029}, {\"time\": \"2022-03-03  6:02am\", \"price\": 43416.89526594029, \"volume\": 22884808912.541836}, {\"time\": \"2022-03-03  7:00am\", \"price\": 43438.88048435675, \"volume\": 23163492053.938263}, {\"time\": \"2022-03-03  8:02am\", \"price\": 43456.21795540275, \"volume\": 22979282797.356842}, {\"time\": \"2022-03-03  9:05am\", \"price\": 43454.26377626688, \"volume\": 22654337411.09456}, {\"time\": \"2022-03-03 10:01am\", \"price\": 43200.582961180524, \"volume\": 22476492408.939804}, {\"time\": \"2022-03-03 11:02am\", \"price\": 43395.088973171696, \"volume\": 22716363932.459267}, {\"time\": \"2022-03-03 12:02pm\", \"price\": 43447.449946499044, \"volume\": 22720594483.087997}, {\"time\": \"2022-03-03  1:00pm\", \"price\": 43598.91972099052, \"volume\": 22460902390.09657}, {\"time\": \"2022-03-03  2:01pm\", \"price\": 43875.67812070945, \"volume\": 22235529016.273113}, {\"time\": \"2022-03-03  3:01pm\", \"price\": 43424.04649626709, \"volume\": 21710026076.49476}, {\"time\": \"2022-03-03  4:02pm\", \"price\": 42548.13472164321, \"volume\": 20235760228.84433}, {\"time\": \"2022-03-03  5:03pm\", \"price\": 42490.20447602499, \"volume\": 20690014515.353584}, {\"time\": \"2022-03-03  6:02pm\", \"price\": 42451.46784830922, \"volume\": 21439432570.213665}, {\"time\": \"2022-03-03  7:02pm\", \"price\": 42261.18510084894, \"volume\": 21300855984.095257}, {\"time\": \"2022-03-03  8:02pm\", \"price\": 42299.54685942412, \"volume\": 21118250862.30187}, {\"time\": \"2022-03-03  9:01pm\", \"price\": 42040.71886663501, \"volume\": 21739192642.57437}, {\"time\": \"2022-03-03 10:01pm\", \"price\": 42115.37294528416, \"volume\": 22258062064.49047}, {\"time\": \"2022-03-03 11:02pm\", \"price\": 42568.913727781146, \"volume\": 22525663834.730938}, {\"time\": \"2022-03-04 12:00am\", \"price\": 42491.97839335905, \"volume\": 22366184128.900482}, {\"time\": \"2022-03-04  1:01am\", \"price\": 41796.63056763132, \"volume\": 22539106134.59789}, {\"time\": \"2022-03-04  2:01am\", \"price\": 41532.38433983906, \"volume\": 23856794033.71498}, {\"time\": \"2022-03-04  3:01am\", \"price\": 41484.16575447404, \"volume\": 23976368922.849476}, {\"time\": \"2022-03-04  4:02am\", \"price\": 41512.715021992946, \"volume\": 23767110501.152542}, {\"time\": \"2022-03-04  5:02am\", \"price\": 41416.411549307624, \"volume\": 23885515758.138306}, {\"time\": \"2022-03-04  6:02am\", \"price\": 41396.403790677876, \"volume\": 23826643986.738987}, {\"time\": \"2022-03-04  7:03am\", \"price\": 41424.261039095014, \"volume\": 23214266872.311947}, {\"time\": \"2022-03-04  8:02am\", \"price\": 41444.82019500933, \"volume\": 23364447559.252296}, {\"time\": \"2022-03-04  9:08am\", \"price\": 41530.980150464835, \"volume\": 24308146447.210438}, {\"time\": \"2022-03-04 10:02am\", \"price\": 41584.47682663279, \"volume\": 25053819414.03934}, {\"time\": \"2022-03-04 11:02am\", \"price\": 41757.16904599947, \"volume\": 24701516456.091255}, {\"time\": \"2022-03-04 12:01pm\", \"price\": 41794.19996929518, \"volume\": 24556978616.3735}, {\"time\": \"2022-03-04  1:00pm\", \"price\": 41539.315585799304, \"volume\": 24772780080.25656}, {\"time\": \"2022-03-04  2:00pm\", \"price\": 41344.72962955317, \"volume\": 24790443895.971836}, {\"time\": \"2022-03-04  3:02pm\", \"price\": 41033.49323247989, \"volume\": 25174778947.40635}, {\"time\": \"2022-03-04  4:02pm\", \"price\": 40780.97105155112, \"volume\": 24400466022.948803}, {\"time\": \"2022-03-04  5:01pm\", \"price\": 40810.77573936881, \"volume\": 24033371162.170517}, {\"time\": \"2022-03-04  6:01pm\", \"price\": 40867.85863308533, \"volume\": 23938714685.83182}, {\"time\": \"2022-03-04  7:02pm\", \"price\": 40718.108240128626, \"volume\": 23427759278.39358}, {\"time\": \"2022-03-04  8:02pm\", \"price\": 39885.827136564905, \"volume\": 23477953611.720463}, {\"time\": \"2022-03-04  9:00pm\", \"price\": 39612.691985350975, \"volume\": 24464176541.300037}, {\"time\": \"2022-03-04 10:02pm\", \"price\": 39524.0284451596, \"volume\": 24458219405.21658}, {\"time\": \"2022-03-04 11:02pm\", \"price\": 38971.95496777563, \"volume\": 24283459397.3355}, {\"time\": \"2022-03-05 12:00am\", \"price\": 39200.29973557414, \"volume\": 25121267305.979286}, {\"time\": \"2022-03-05  1:00am\", \"price\": 38907.833257994535, \"volume\": 24242294927.434822}, {\"time\": \"2022-03-05  2:02am\", \"price\": 38983.90618824478, \"volume\": 23376390735.974384}, {\"time\": \"2022-03-05  3:03am\", \"price\": 38998.40423265102, \"volume\": 23150827497.314114}, {\"time\": \"2022-03-05  4:00am\", \"price\": 39109.06860279758, \"volume\": 23198107232.524853}, {\"time\": \"2022-03-05  5:01am\", \"price\": 38922.72630135833, \"volume\": 22938674793.052742}, {\"time\": \"2022-03-05  6:02am\", \"price\": 39018.88400192705, \"volume\": 23246526125.55651}, {\"time\": \"2022-03-05  7:00am\", \"price\": 39047.23770197715, \"volume\": 23104901660.878296}, {\"time\": \"2022-03-05  8:01am\", \"price\": 39092.14744409206, \"volume\": 23053114180.827396}, {\"time\": \"2022-03-05  9:04am\", \"price\": 39145.27264413488, \"volume\": 22257260299.195873}, {\"time\": \"2022-03-05 10:01am\", \"price\": 39070.20884181727, \"volume\": 21751819917.748814}, {\"time\": \"2022-03-05 11:01am\", \"price\": 39186.978010848026, \"volume\": 21794047133.54634}, {\"time\": \"2022-03-05 12:01pm\", \"price\": 39210.9175964596, \"volume\": 21865461694.97989}, {\"time\": \"2022-03-05  1:00pm\", \"price\": 39152.05618937005, \"volume\": 21449691113.657143}, {\"time\": \"2022-03-05  2:02pm\", \"price\": 39093.25905168898, \"volume\": 21083755852.491608}, {\"time\": \"2022-03-05  3:03pm\", \"price\": 39186.95729407749, \"volume\": 20109900365.791958}, {\"time\": \"2022-03-05  4:00pm\", \"price\": 39230.67271867988, \"volume\": 18829578149.671097}, {\"time\": \"2022-03-05  5:00pm\", \"price\": 39413.899760668915, \"volume\": 18502669186.628395}, {\"time\": \"2022-03-05  6:00pm\", \"price\": 39523.7642348816, \"volume\": 18692163664.932785}, {\"time\": \"2022-03-05  7:03pm\", \"price\": 39467.07328809329, \"volume\": 18510665283.904408}, {\"time\": \"2022-03-05  8:00pm\", \"price\": 39507.057736587434, \"volume\": 17532322018.82309}, {\"time\": \"2022-03-05  9:02pm\", \"price\": 39556.923819552416, \"volume\": 16364097798.987194}, {\"time\": \"2022-03-05 10:02pm\", \"price\": 39453.91956524555, \"volume\": 15919993099.32818}, {\"time\": \"2022-03-05 11:02pm\", \"price\": 39515.00049382657, \"volume\": 15232275208.519268}, {\"time\": \"2022-03-06 12:01am\", \"price\": 39465.92350920515, \"volume\": 14796072189.235748}, {\"time\": \"2022-03-06  1:01am\", \"price\": 39608.44670346521, \"volume\": 14033498445.485209}, {\"time\": \"2022-03-06  2:02am\", \"price\": 39522.024591525966, \"volume\": 13636821537.607248}, {\"time\": \"2022-03-06  3:02am\", \"price\": 39560.10585074321, \"volume\": 13537316971.280859}, {\"time\": \"2022-03-06  4:01am\", \"price\": 39418.340539482255, \"volume\": 13355397719.187422}, {\"time\": \"2022-03-06  5:00am\", \"price\": 39572.88737629683, \"volume\": 13902211531.552181}, {\"time\": \"2022-03-06  6:01am\", \"price\": 39572.62631548639, \"volume\": 14049426539.44011}, {\"time\": \"2022-03-06  7:02am\", \"price\": 39533.87615972594, \"volume\": 13770580585.561768}, {\"time\": \"2022-03-06  8:01am\", \"price\": 39443.710457829875, \"volume\": 13734585953.508461}, {\"time\": \"2022-03-06  9:09am\", \"price\": 39201.60039638006, \"volume\": 13591810224.061033}, {\"time\": \"2022-03-06 10:01am\", \"price\": 38774.82128238143, \"volume\": 13918688878.81265}, {\"time\": \"2022-03-06 11:01am\", \"price\": 38354.33844774822, \"volume\": 14592479796.075098}, {\"time\": \"2022-03-06 12:01pm\", \"price\": 38391.44751811932, \"volume\": 14731817681.152733}, {\"time\": \"2022-03-06  1:01pm\", \"price\": 38614.667798511095, \"volume\": 15120184782.858194}, {\"time\": \"2022-03-06  2:02pm\", \"price\": 38953.75752763195, \"volume\": 15556452351.961042}, {\"time\": \"2022-03-06  3:02pm\", \"price\": 38908.5160794143, \"volume\": 15692647180.027637}, {\"time\": \"2022-03-06  4:01pm\", \"price\": 38920.129245907396, \"volume\": 15735743845.964693}, {\"time\": \"2022-03-06  5:01pm\", \"price\": 39251.67745409224, \"volume\": 15981794529.882265}, {\"time\": \"2022-03-06  6:02pm\", \"price\": 39036.41138790572, \"volume\": 15837975923.284124}, {\"time\": \"2022-03-06  7:02pm\", \"price\": 38948.41370450985, \"volume\": 15713752881.633871}, {\"time\": \"2022-03-06  8:01pm\", \"price\": 38781.12688310102, \"volume\": 15906929746.51257}, {\"time\": \"2022-03-06  9:00pm\", \"price\": 38933.71815378388, \"volume\": 15947536525.775322}, {\"time\": \"2022-03-06 10:01pm\", \"price\": 39054.911413062095, \"volume\": 16373590276.975403}, {\"time\": \"2022-03-06 11:01pm\", \"price\": 39053.32761603085, \"volume\": 16663217272.646513}, {\"time\": \"2022-03-07 12:00am\", \"price\": 38442.99174588676, \"volume\": 16995562040.606796}, {\"time\": \"2022-03-07  1:01am\", \"price\": 38375.11722206218, \"volume\": 17737972283.23831}, {\"time\": \"2022-03-07  2:00am\", \"price\": 38417.63711249957, \"volume\": 17702576207.69237}, {\"time\": \"2022-03-07  3:00am\", \"price\": 37747.223722625204, \"volume\": 18337808434.23066}, {\"time\": \"2022-03-07  4:00am\", \"price\": 37937.02474660312, \"volume\": 19270244257.41613}, {\"time\": \"2022-03-07  5:02am\", \"price\": 37946.796046108146, \"volume\": 18662992138.751644}, {\"time\": \"2022-03-07  6:00am\", \"price\": 38123.5880222772, \"volume\": 18685013145.048573}, {\"time\": \"2022-03-07  7:00am\", \"price\": 38201.22598135243, \"volume\": 18895227257.183723}, {\"time\": \"2022-03-07  8:02am\", \"price\": 38006.64029600238, \"volume\": 18890416349.435097}, {\"time\": \"2022-03-07  9:00am\", \"price\": 38099.55209391013, \"volume\": 19428992083.72414}, {\"time\": \"2022-03-07 10:01am\", \"price\": 38238.29450615601, \"volume\": 19231595013.430218}, {\"time\": \"2022-03-07 11:01am\", \"price\": 38201.67653161494, \"volume\": 18505799195.667324}, {\"time\": \"2022-03-07 12:02pm\", \"price\": 38360.23140030268, \"volume\": 18323219512.123558}, {\"time\": \"2022-03-07  1:01pm\", \"price\": 38665.02487425728, \"volume\": 18707200633.09448}, {\"time\": \"2022-03-07  2:02pm\", \"price\": 38946.022921521035, \"volume\": 19340275551.18421}, {\"time\": \"2022-03-07  3:01pm\", \"price\": 38990.64833695661, \"volume\": 20194120400.290154}, {\"time\": \"2022-03-07  4:01pm\", \"price\": 39060.35262308791, \"volume\": 20902070563.161045}, {\"time\": \"2022-03-07  5:02pm\", \"price\": 38854.68221821108, \"volume\": 21185379188.73216}, {\"time\": \"2022-03-07  6:01pm\", \"price\": 38830.4807462585, \"volume\": 21692120833.36969}, {\"time\": \"2022-03-07  7:01pm\", \"price\": 38088.635146086766, \"volume\": 22248682524.007355}, {\"time\": \"2022-03-07  8:03pm\", \"price\": 37387.923708175374, \"volume\": 22927454462.134247}, {\"time\": \"2022-03-07  9:02pm\", \"price\": 37626.91418746491, \"volume\": 23866360496.193287}, {\"time\": \"2022-03-07 10:01pm\", \"price\": 37998.19115643765, \"volume\": 24058959002.936546}, {\"time\": \"2022-03-07 11:01pm\", \"price\": 38171.92522563868, \"volume\": 24823107832.48517}]}}, {\"mode\": \"vega-lite\"});\n",
              "</script>"
            ],
            "text/plain": [
              "alt.LayerChart(...)"
            ]
          },
          "metadata": {},
          "execution_count": 44
        }
      ]
    }
  ]
}